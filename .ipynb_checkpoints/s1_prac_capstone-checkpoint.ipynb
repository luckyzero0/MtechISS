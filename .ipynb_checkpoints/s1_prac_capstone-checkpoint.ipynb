{
 "cells": [
  {
   "cell_type": "code",
   "execution_count": 4,
   "metadata": {
    "collapsed": true
   },
   "outputs": [],
   "source": [
    "import pandas as pd\n",
    "from ydata_profiling import ProfileReport\n",
    "from pathlib import Path\n",
    "import openpyxl\n",
    "\n"
   ]
  },
  {
   "cell_type": "markdown",
   "metadata": {},
   "source": [
    "# Full Data FAST ProfileReport EDA"
   ]
  },
  {
   "cell_type": "code",
   "execution_count": null,
   "metadata": {},
   "outputs": [],
   "source": [
    "DATA_PATH = 'C:/Users/weiji/Documents/Full Data.csv'\n",
    "OUTPUT_PATH_pdReport = 'C:/Users/weiji/Documents/EDA_first_overall.html'\n",
    "\n",
    "\n",
    "MEASURES = ['CP AA ASIS NIR','MET AA ASIS NIR',\n",
    "'LYS AA ASIS NIR', 'KOH PS RED ASIS NIR', 'TIA A RED ASIS NIR', 'LYS REACTIVE LYS RATIO RED ASIS NIR']\n",
    "INTERESTED_COLUMNS = ['Country','Country of processing','Customer', 'Delivery date',\n",
    "                      'Description','Lab customer', 'Lab no','Supplier'] + MEASURES\n",
    "df = pd.read_csv(DATA_PATH)\n",
    "MAPPER = ''\n",
    "\n",
    "df.columns = [c.upper() for c in df.columns]\n",
    "\n",
    "df_filtered = df[[c.upper() for c in INTERESTED_COLUMNS]]\n",
    "for m in MEASURES:\n",
    "    if df_filtered[m].dtype == 'float64':\n",
    "        continue\n",
    "    else:\n",
    "        df_filtered[m] = df_filtered[m].str.extract('([0-9.]+)').fillna(-1).apply(pd.to_numeric)\n",
    "\n",
    "\n",
    "profile = ProfileReport(df_filtered, title='EDA First Overall Draft')\n",
    "profile.to_file(OUTPUT_PATH_pdReport)"
   ]
  },
  {
   "cell_type": "markdown",
   "metadata": {},
   "source": [
    "# Preprocessing"
   ]
  },
  {
   "cell_type": "code",
   "execution_count": 10,
   "metadata": {},
   "outputs": [],
   "source": [
    "MAIN_FOLDER_PATH = Path('C:/Data/MtechCapStone_Y1S1')\n",
    "DATA_DICTIONARY_PATH = 'Information/DataDictionary.xlsx'\n",
    "RAW_FOLDER_PATH = 'RawData'"
   ]
  },
  {
   "cell_type": "code",
   "execution_count": 12,
   "metadata": {},
   "outputs": [
    {
     "data": {
      "text/html": [
       "<div>\n",
       "<style scoped>\n",
       "    .dataframe tbody tr th:only-of-type {\n",
       "        vertical-align: middle;\n",
       "    }\n",
       "\n",
       "    .dataframe tbody tr th {\n",
       "        vertical-align: top;\n",
       "    }\n",
       "\n",
       "    .dataframe thead th {\n",
       "        text-align: right;\n",
       "    }\n",
       "</style>\n",
       "<table border=\"1\" class=\"dataframe\">\n",
       "  <thead>\n",
       "    <tr style=\"text-align: right;\">\n",
       "      <th></th>\n",
       "      <th>Fields Name</th>\n",
       "      <th>Example</th>\n",
       "      <th>Metrics</th>\n",
       "      <th>PreprocessingSteps</th>\n",
       "    </tr>\n",
       "  </thead>\n",
       "  <tbody>\n",
       "    <tr>\n",
       "      <th>0</th>\n",
       "      <td>Customer</td>\n",
       "      <td>Venky's India Ltd - Nanded (64151)</td>\n",
       "      <td>NaN</td>\n",
       "      <td>Keep</td>\n",
       "    </tr>\n",
       "    <tr>\n",
       "      <th>1</th>\n",
       "      <td>Lab customer</td>\n",
       "      <td>Venky's India Ltd. - Nanded, Nanded, 56080</td>\n",
       "      <td>NaN</td>\n",
       "      <td>Keep</td>\n",
       "    </tr>\n",
       "    <tr>\n",
       "      <th>2</th>\n",
       "      <td>Country</td>\n",
       "      <td>India</td>\n",
       "      <td>NaN</td>\n",
       "      <td>Keep</td>\n",
       "    </tr>\n",
       "    <tr>\n",
       "      <th>3</th>\n",
       "      <td>Origin</td>\n",
       "      <td>India</td>\n",
       "      <td>NaN</td>\n",
       "      <td>Keep</td>\n",
       "    </tr>\n",
       "    <tr>\n",
       "      <th>4</th>\n",
       "      <td>Origin Subregion</td>\n",
       "      <td>NaN</td>\n",
       "      <td>NaN</td>\n",
       "      <td>Keep</td>\n",
       "    </tr>\n",
       "  </tbody>\n",
       "</table>\n",
       "</div>"
      ],
      "text/plain": [
       "        Fields Name                                     Example Metrics  \\\n",
       "0          Customer          Venky's India Ltd - Nanded (64151)     NaN   \n",
       "1      Lab customer  Venky's India Ltd. - Nanded, Nanded, 56080     NaN   \n",
       "2           Country                                       India     NaN   \n",
       "3            Origin                                       India     NaN   \n",
       "4  Origin Subregion                                         NaN     NaN   \n",
       "\n",
       "  PreprocessingSteps  \n",
       "0               Keep  \n",
       "1               Keep  \n",
       "2               Keep  \n",
       "3               Keep  \n",
       "4               Keep  "
      ]
     },
     "execution_count": 12,
     "metadata": {},
     "output_type": "execute_result"
    }
   ],
   "source": [
    "data_dictionary_df = pd.read_excel(MAIN_FOLDER_PATH / DATA_DICTIONARY_PATH)\n",
    "data_dictionary_df.head()"
   ]
  },
  {
   "cell_type": "code",
   "execution_count": null,
   "metadata": {},
   "outputs": [
    {
     "name": "stdout",
     "output_type": "stream",
     "text": [
      "Loading C:\\Data\\MtechCapStone_Y1S1\\RawData\\2022-01.xlsx\n"
     ]
    }
   ],
   "source": [
    "COLS_TO_BE_KEPT = data_dictionary_df[data_dictionary_df.PreprocessingSteps.isin(['Keep','Metrics'])]['Fields Name']\n",
    "OUTPUT_LIST = []\n",
    "for raw_file in (MAIN_FOLDER_PATH/RAW_FOLDER_PATH).iterdir():\n",
    "    print(f\"Loading {raw_file}\")\n",
    "    OUTPUT_LIST.append(pd.read_excel(raw_file, usecols=COLS_TO_BE_KEPT, dtype='string'))\n",
    "overall_df = pd.concat(OUTPUT_LIST)"
   ]
  },
  {
   "cell_type": "code",
   "execution_count": 56,
   "metadata": {},
   "outputs": [
    {
     "data": {
      "text/plain": [
       "0                  Customer\n",
       "1              Lab customer\n",
       "2                   Country\n",
       "3                    Origin\n",
       "4          Origin Subregion\n",
       "5           Origin province\n",
       "6                  Supplier\n",
       "7     Country of processing\n",
       "8                    Lab no\n",
       "9             Material type\n",
       "10                 Material\n",
       "11                    Phase\n",
       "12             Release date\n",
       "13            Delivery date\n",
       "14              Description\n",
       "15          Sample Descr. 1\n",
       "16          Sample Descr. 2\n",
       "17          Sample Descr. 3\n",
       "18          Sample Descr. 4\n",
       "19    DRYMATTER_AA_ASIS_NIR\n",
       "Name: Fields Name, dtype: object"
      ]
     },
     "execution_count": 56,
     "metadata": {},
     "output_type": "execute_result"
    }
   ],
   "source": [
    "COLS_TO_BE_KEPT"
   ]
  },
  {
   "cell_type": "code",
   "execution_count": 52,
   "metadata": {},
   "outputs": [],
   "source": [
    "overall_df = pd.concat(OUTPUT_LIST)"
   ]
  },
  {
   "cell_type": "code",
   "execution_count": 55,
   "metadata": {},
   "outputs": [
    {
     "data": {
      "text/html": [
       "<div>\n",
       "<style scoped>\n",
       "    .dataframe tbody tr th:only-of-type {\n",
       "        vertical-align: middle;\n",
       "    }\n",
       "\n",
       "    .dataframe tbody tr th {\n",
       "        vertical-align: top;\n",
       "    }\n",
       "\n",
       "    .dataframe thead th {\n",
       "        text-align: right;\n",
       "    }\n",
       "</style>\n",
       "<table border=\"1\" class=\"dataframe\">\n",
       "  <thead>\n",
       "    <tr style=\"text-align: right;\">\n",
       "      <th></th>\n",
       "      <th>Customer</th>\n",
       "      <th>Lab customer</th>\n",
       "      <th>Country</th>\n",
       "      <th>Origin</th>\n",
       "      <th>Origin Subregion</th>\n",
       "      <th>Origin province</th>\n",
       "      <th>Supplier</th>\n",
       "      <th>Country of processing</th>\n",
       "      <th>Lab no</th>\n",
       "      <th>Material type</th>\n",
       "      <th>Material</th>\n",
       "      <th>Phase</th>\n",
       "      <th>Release date</th>\n",
       "      <th>Delivery date</th>\n",
       "      <th>Description</th>\n",
       "      <th>Sample Descr. 1</th>\n",
       "      <th>Sample Descr. 2</th>\n",
       "      <th>Sample Descr. 3</th>\n",
       "      <th>Sample Descr. 4</th>\n",
       "      <th>DRYMATTER_AA_ASIS_NIR</th>\n",
       "    </tr>\n",
       "  </thead>\n",
       "  <tbody>\n",
       "    <tr>\n",
       "      <th>count</th>\n",
       "      <td>39395</td>\n",
       "      <td>39395</td>\n",
       "      <td>39395</td>\n",
       "      <td>13043</td>\n",
       "      <td>0</td>\n",
       "      <td>0</td>\n",
       "      <td>3547</td>\n",
       "      <td>417</td>\n",
       "      <td>39395</td>\n",
       "      <td>39395</td>\n",
       "      <td>39395</td>\n",
       "      <td>0</td>\n",
       "      <td>39395</td>\n",
       "      <td>39395</td>\n",
       "      <td>3714</td>\n",
       "      <td>39273</td>\n",
       "      <td>35901</td>\n",
       "      <td>27642</td>\n",
       "      <td>6580</td>\n",
       "      <td>39431</td>\n",
       "    </tr>\n",
       "    <tr>\n",
       "      <th>unique</th>\n",
       "      <td>87</td>\n",
       "      <td>108</td>\n",
       "      <td>14</td>\n",
       "      <td>20</td>\n",
       "      <td>0</td>\n",
       "      <td>0</td>\n",
       "      <td>275</td>\n",
       "      <td>6</td>\n",
       "      <td>39395</td>\n",
       "      <td>1</td>\n",
       "      <td>4</td>\n",
       "      <td>0</td>\n",
       "      <td>324</td>\n",
       "      <td>325</td>\n",
       "      <td>1366</td>\n",
       "      <td>22369</td>\n",
       "      <td>16360</td>\n",
       "      <td>5700</td>\n",
       "      <td>2180</td>\n",
       "      <td>846</td>\n",
       "    </tr>\n",
       "    <tr>\n",
       "      <th>top</th>\n",
       "      <td>Shanthi Feeds Private Limited (4080)</td>\n",
       "      <td>Shanthi Feeds, Coimbatore, 3182</td>\n",
       "      <td>India</td>\n",
       "      <td>Argentina</td>\n",
       "      <td>NaN</td>\n",
       "      <td>NaN</td>\n",
       "      <td>FKS</td>\n",
       "      <td>Indonesia</td>\n",
       "      <td>IN22-0000012-001</td>\n",
       "      <td>Raw Materials</td>\n",
       "      <td>Soybean Meal</td>\n",
       "      <td>NaN</td>\n",
       "      <td>2022-10-21</td>\n",
       "      <td>2022-10-21</td>\n",
       "      <td>SBM</td>\n",
       "      <td>AMINONIR ADVANCED Evonik  Full fat Soybean mea...</td>\n",
       "      <td>SBM</td>\n",
       "      <td>supplier name  SHANTHI FEEDS</td>\n",
       "      <td>Silo no.    Bin no.</td>\n",
       "      <td>88.85</td>\n",
       "    </tr>\n",
       "    <tr>\n",
       "      <th>freq</th>\n",
       "      <td>6734</td>\n",
       "      <td>6734</td>\n",
       "      <td>15719</td>\n",
       "      <td>5914</td>\n",
       "      <td>NaN</td>\n",
       "      <td>NaN</td>\n",
       "      <td>322</td>\n",
       "      <td>240</td>\n",
       "      <td>1</td>\n",
       "      <td>39395</td>\n",
       "      <td>33906</td>\n",
       "      <td>NaN</td>\n",
       "      <td>674</td>\n",
       "      <td>674</td>\n",
       "      <td>465</td>\n",
       "      <td>3103</td>\n",
       "      <td>2256</td>\n",
       "      <td>2321</td>\n",
       "      <td>839</td>\n",
       "      <td>164</td>\n",
       "    </tr>\n",
       "  </tbody>\n",
       "</table>\n",
       "</div>"
      ],
      "text/plain": [
       "                                    Customer                     Lab customer  \\\n",
       "count                                  39395                            39395   \n",
       "unique                                    87                              108   \n",
       "top     Shanthi Feeds Private Limited (4080)  Shanthi Feeds, Coimbatore, 3182   \n",
       "freq                                    6734                             6734   \n",
       "\n",
       "       Country     Origin Origin Subregion Origin province Supplier  \\\n",
       "count    39395      13043                0               0     3547   \n",
       "unique      14         20                0               0      275   \n",
       "top      India  Argentina              NaN             NaN      FKS   \n",
       "freq     15719       5914              NaN             NaN      322   \n",
       "\n",
       "       Country of processing            Lab no  Material type      Material  \\\n",
       "count                    417             39395          39395         39395   \n",
       "unique                     6             39395              1             4   \n",
       "top                Indonesia  IN22-0000012-001  Raw Materials  Soybean Meal   \n",
       "freq                     240                 1          39395         33906   \n",
       "\n",
       "       Phase Release date Delivery date Description  \\\n",
       "count      0        39395         39395        3714   \n",
       "unique     0          324           325        1366   \n",
       "top      NaN   2022-10-21    2022-10-21         SBM   \n",
       "freq     NaN          674           674         465   \n",
       "\n",
       "                                          Sample Descr. 1 Sample Descr. 2  \\\n",
       "count                                               39273           35901   \n",
       "unique                                              22369           16360   \n",
       "top     AMINONIR ADVANCED Evonik  Full fat Soybean mea...             SBM   \n",
       "freq                                                 3103            2256   \n",
       "\n",
       "                     Sample Descr. 3      Sample Descr. 4  \\\n",
       "count                          27642                 6580   \n",
       "unique                          5700                 2180   \n",
       "top     supplier name  SHANTHI FEEDS  Silo no.    Bin no.   \n",
       "freq                            2321                  839   \n",
       "\n",
       "       DRYMATTER_AA_ASIS_NIR  \n",
       "count                  39431  \n",
       "unique                   846  \n",
       "top                    88.85  \n",
       "freq                     164  "
      ]
     },
     "execution_count": 55,
     "metadata": {},
     "output_type": "execute_result"
    }
   ],
   "source": [
    "overall_df.describe(include='all')"
   ]
  },
  {
   "cell_type": "code",
   "execution_count": null,
   "metadata": {},
   "outputs": [],
   "source": []
  },
  {
   "cell_type": "code",
   "execution_count": 13,
   "metadata": {},
   "outputs": [
    {
     "name": "stdout",
     "output_type": "stream",
     "text": [
      "C:\\Data\\MtechCapStone_Y1S1\\RawData\\2022-01.xlsx\n",
      "C:\\Data\\MtechCapStone_Y1S1\\RawData\\2022-02.xlsx\n",
      "C:\\Data\\MtechCapStone_Y1S1\\RawData\\2022-03.xlsx\n",
      "C:\\Data\\MtechCapStone_Y1S1\\RawData\\2022-04.xlsx\n",
      "C:\\Data\\MtechCapStone_Y1S1\\RawData\\2022-05.xlsx\n",
      "C:\\Data\\MtechCapStone_Y1S1\\RawData\\2022-06.xlsx\n",
      "C:\\Data\\MtechCapStone_Y1S1\\RawData\\2022-07.xlsx\n",
      "C:\\Data\\MtechCapStone_Y1S1\\RawData\\2022-08.xlsx\n",
      "C:\\Data\\MtechCapStone_Y1S1\\RawData\\2022-09.xlsx\n",
      "C:\\Data\\MtechCapStone_Y1S1\\RawData\\2022-10.xlsx\n",
      "C:\\Data\\MtechCapStone_Y1S1\\RawData\\2022-11.xlsx\n",
      "C:\\Data\\MtechCapStone_Y1S1\\RawData\\2022-12.xlsx\n"
     ]
    },
    {
     "ename": "NameError",
     "evalue": "name 'DATA_PATH' is not defined",
     "output_type": "error",
     "traceback": [
      "\u001b[1;31m---------------------------------------------------------------------------\u001b[0m",
      "\u001b[1;31mNameError\u001b[0m                                 Traceback (most recent call last)",
      "Cell \u001b[1;32mIn[13], line 5\u001b[0m\n\u001b[0;32m      1\u001b[0m \u001b[38;5;28;01mfor\u001b[39;00m raw_file \u001b[38;5;129;01min\u001b[39;00m (MAIN_FOLDER_PATH\u001b[38;5;241m/\u001b[39mRAW_FOLDER_PATH)\u001b[38;5;241m.\u001b[39miterdir():\n\u001b[0;32m      2\u001b[0m     \u001b[38;5;28mprint\u001b[39m(raw_file)\n\u001b[1;32m----> 5\u001b[0m df \u001b[38;5;241m=\u001b[39m pd\u001b[38;5;241m.\u001b[39mread_csv(\u001b[43mDATA_PATH\u001b[49m)\n\u001b[0;32m      6\u001b[0m MAPPER \u001b[38;5;241m=\u001b[39m \u001b[38;5;124m'\u001b[39m\u001b[38;5;124m'\u001b[39m\n\u001b[0;32m      8\u001b[0m df\u001b[38;5;241m.\u001b[39mcolumns \u001b[38;5;241m=\u001b[39m [c\u001b[38;5;241m.\u001b[39mupper() \u001b[38;5;28;01mfor\u001b[39;00m c \u001b[38;5;129;01min\u001b[39;00m df\u001b[38;5;241m.\u001b[39mcolumns]\n",
      "\u001b[1;31mNameError\u001b[0m: name 'DATA_PATH' is not defined"
     ]
    }
   ],
   "source": [
    "\n",
    "\n",
    "df = pd.read_csv(DATA_PATH)\n",
    "MAPPER = ''\n",
    "\n",
    "df.columns = [c.upper() for c in df.columns]\n",
    "\n",
    "df_filtered = df[[c.upper() for c in INTERESTED_COLUMNS]]\n",
    "for m in MEASURES:\n",
    "    if df_filtered[m].dtype == 'float64':\n",
    "        continue\n",
    "    else:\n",
    "        df_filtered[m] = df_filtered[m].str.extract('([0-9.]+)').fillna(-1).apply(pd.to_numeric)\n",
    "\n",
    "\n",
    "profile = ProfileReport(df_filtered, title='EDA First Overall Draft')\n",
    "profile.to_file(OUTPUT_PATH_pdReport)"
   ]
  }
 ],
 "metadata": {
  "kernelspec": {
   "display_name": "Python 3 (ipykernel)",
   "language": "python",
   "name": "python3"
  },
  "language_info": {
   "codemirror_mode": {
    "name": "ipython",
    "version": 3
   },
   "file_extension": ".py",
   "mimetype": "text/x-python",
   "name": "python",
   "nbconvert_exporter": "python",
   "pygments_lexer": "ipython3",
   "version": "3.9.13"
  }
 },
 "nbformat": 4,
 "nbformat_minor": 1
}
