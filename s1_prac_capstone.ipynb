{
 "cells": [
  {
   "cell_type": "code",
   "execution_count": null,
   "metadata": {
    "pycharm": {
     "is_executing": true
    }
   },
   "outputs": [],
   "source": [
    "import pandas as pd\n",
    "from ydata_profiling import ProfileReport\n",
    "from pathlib import Path\n",
    "import numpy as np"
   ]
  },
  {
   "cell_type": "markdown",
   "metadata": {},
   "source": [
    "# Full Data FAST ProfileReport EDA"
   ]
  },
  {
   "cell_type": "code",
   "execution_count": 103,
   "metadata": {},
   "outputs": [
    {
     "name": "stderr",
     "output_type": "stream",
     "text": [
      "C:\\Users\\weiji\\AppData\\Local\\Temp\\ipykernel_18676\\3377124385.py:9: DtypeWarning: Columns (0,1,3,4,7,8,11,12,15,16,20,23,25,26,32,34,35,36,37) have mixed types. Specify dtype option on import or set low_memory=False.\n",
      "  df = pd.read_csv(DATA_PATH)\n",
      "C:\\Users\\weiji\\AppData\\Local\\Temp\\ipykernel_18676\\3377124385.py:19: SettingWithCopyWarning: \n",
      "A value is trying to be set on a copy of a slice from a DataFrame.\n",
      "Try using .loc[row_indexer,col_indexer] = value instead\n",
      "\n",
      "See the caveats in the documentation: https://pandas.pydata.org/pandas-docs/stable/user_guide/indexing.html#returning-a-view-versus-a-copy\n",
      "  df_filtered[m] = df_filtered[m].str.extract('([0-9.]+)').apply(pd.to_numeric)\n",
      "C:\\Users\\weiji\\AppData\\Local\\Temp\\ipykernel_18676\\3377124385.py:19: SettingWithCopyWarning: \n",
      "A value is trying to be set on a copy of a slice from a DataFrame.\n",
      "Try using .loc[row_indexer,col_indexer] = value instead\n",
      "\n",
      "See the caveats in the documentation: https://pandas.pydata.org/pandas-docs/stable/user_guide/indexing.html#returning-a-view-versus-a-copy\n",
      "  df_filtered[m] = df_filtered[m].str.extract('([0-9.]+)').apply(pd.to_numeric)\n",
      "C:\\Users\\weiji\\AppData\\Local\\Temp\\ipykernel_18676\\3377124385.py:19: SettingWithCopyWarning: \n",
      "A value is trying to be set on a copy of a slice from a DataFrame.\n",
      "Try using .loc[row_indexer,col_indexer] = value instead\n",
      "\n",
      "See the caveats in the documentation: https://pandas.pydata.org/pandas-docs/stable/user_guide/indexing.html#returning-a-view-versus-a-copy\n",
      "  df_filtered[m] = df_filtered[m].str.extract('([0-9.]+)').apply(pd.to_numeric)\n",
      "C:\\Users\\weiji\\PycharmProjects\\MtechISS\\venv\\lib\\site-packages\\ydata_profiling\\utils\\dataframe.py:137: SettingWithCopyWarning: \n",
      "A value is trying to be set on a copy of a slice from a DataFrame\n",
      "\n",
      "See the caveats in the documentation: https://pandas.pydata.org/pandas-docs/stable/user_guide/indexing.html#returning-a-view-versus-a-copy\n",
      "  df.rename(columns={\"index\": \"df_index\"}, inplace=True)\n"
     ]
    },
    {
     "data": {
      "text/plain": "Summarize dataset:   0%|          | 0/5 [00:00<?, ?it/s]",
      "application/vnd.jupyter.widget-view+json": {
       "version_major": 2,
       "version_minor": 0,
       "model_id": "6770e046aff2428a8473faab78d77a4d"
      }
     },
     "metadata": {},
     "output_type": "display_data"
    },
    {
     "data": {
      "text/plain": "Generate report structure:   0%|          | 0/1 [00:00<?, ?it/s]",
      "application/vnd.jupyter.widget-view+json": {
       "version_major": 2,
       "version_minor": 0,
       "model_id": "5e6dc7002e1248ca8bc56713a095735d"
      }
     },
     "metadata": {},
     "output_type": "display_data"
    },
    {
     "data": {
      "text/plain": "Render HTML:   0%|          | 0/1 [00:00<?, ?it/s]",
      "application/vnd.jupyter.widget-view+json": {
       "version_major": 2,
       "version_minor": 0,
       "model_id": "1b7e210709054bf48046651e05a73f7f"
      }
     },
     "metadata": {},
     "output_type": "display_data"
    },
    {
     "data": {
      "text/plain": "Export report to file:   0%|          | 0/1 [00:00<?, ?it/s]",
      "application/vnd.jupyter.widget-view+json": {
       "version_major": 2,
       "version_minor": 0,
       "model_id": "012d8455e33b4a0788b1cf665a52b8c2"
      }
     },
     "metadata": {},
     "output_type": "display_data"
    }
   ],
   "source": [
    "DATA_PATH = 'C:/Users/weiji/Documents/Full Data.csv'\n",
    "OUTPUT_PATH_pdReport = 'C:/Users/weiji/Documents/EDA_first_overall.html'\n",
    "\n",
    "\n",
    "MEASURES = ['CP AA ASIS NIR','MET AA ASIS NIR',\n",
    "'LYS AA ASIS NIR', 'KOH PS RED ASIS NIR', 'TIA A RED ASIS NIR', 'LYS REACTIVE LYS RATIO RED ASIS NIR']\n",
    "INTERESTED_COLUMNS = ['Country','Country of processing','Customer', 'Delivery date',\n",
    "                      'Description','Lab customer', 'Lab no','Supplier'] + MEASURES\n",
    "df = pd.read_csv(DATA_PATH)\n",
    "MAPPER = ''\n",
    "\n",
    "df.columns = [c.upper() for c in df.columns]\n",
    "\n",
    "df_filtered = df[[c.upper() for c in INTERESTED_COLUMNS]]\n",
    "for m in MEASURES:\n",
    "    if df_filtered[m].dtype == 'float64':\n",
    "        continue\n",
    "    else:\n",
    "        df_filtered[m] = df_filtered[m].str.extract('([0-9.]+)').apply(pd.to_numeric)\n",
    "\n",
    "\n",
    "profile = ProfileReport(df_filtered, title='EDA First Overall Draft')\n",
    "profile.config.html.style.primary_colors = ['#9A2782', '#e41a1c', '#4daf4a']\n",
    "profile.to_file(OUTPUT_PATH_pdReport)"
   ]
  },
  {
   "cell_type": "code",
   "execution_count": 102,
   "outputs": [
    {
     "data": {
      "text/plain": "Style(primary_colors=['#377eb8', '#e41a1c', '#4daf4a'], logo='', theme=None)"
     },
     "execution_count": 102,
     "metadata": {},
     "output_type": "execute_result"
    }
   ],
   "source": [
    "profile.config.html.style"
   ],
   "metadata": {
    "collapsed": false
   }
  },
  {
   "cell_type": "markdown",
   "metadata": {},
   "source": [
    "# Preprocessing"
   ]
  },
  {
   "cell_type": "code",
   "execution_count": 2,
   "metadata": {},
   "outputs": [],
   "source": [
    "MAIN_FOLDER_PATH = Path('C:/Data/MtechCapStone_Y1S1')\n",
    "DATA_DICTIONARY_PATH = 'Information/DataConfig.xlsx'\n",
    "RAW_FOLDER_PATH = 'RawData'"
   ]
  },
  {
   "cell_type": "code",
   "execution_count": 3,
   "metadata": {},
   "outputs": [],
   "source": [
    "OUTPUT_FILE = 'C:/Users/weiji/Documents/Preprocessed_Data_Feature_engineering.xlsx'\n",
    "HOLISTIC_OUTPUT_FILE = 'C:/Users/weiji/Documents/Preprocessed_Data_Feature_engineering_Holistic.xlsx'"
   ]
  },
  {
   "cell_type": "code",
   "execution_count": 4,
   "metadata": {},
   "outputs": [
    {
     "data": {
      "text/plain": "                          Fields Name  \\\n0                            Customer   \n1                        Lab customer   \n2                             Country   \n3                              Origin   \n4                    Origin Subregion   \n..                                ...   \n203  ASP_SID_CORR_REDBROILER_ASIS_NIR   \n204  GLU_SID_CORR_REDBROILER_ASIS_NIR   \n205  GLY_SID_CORR_REDBROILER_ASIS_NIR   \n206  PRO_SID_CORR_REDBROILER_ASIS_NIR   \n207  SER_SID_CORR_REDBROILER_ASIS_NIR   \n\n                                        Example Metrics PreprocessingSteps  \\\n0            Venky's India Ltd - Nanded (64151)     NaN               Keep   \n1    Venky's India Ltd. - Nanded, Nanded, 56080     NaN               Keep   \n2                                         India     NaN               Keep   \n3                                         India     NaN               Keep   \n4                                           NaN     NaN             Ignore   \n..                                          ...     ...                ...   \n203                                         NaN     NaN             Ignore   \n204                                         NaN     NaN             Ignore   \n205                                         NaN     NaN             Ignore   \n206                                         NaN     NaN             Ignore   \n207                                         NaN     NaN             Ignore   \n\n    InitialType MetricType       Remarks  \n0        String        NaN           NaN  \n1        String        NaN           NaN  \n2        String        NaN           NaN  \n3        String        NaN           NaN  \n4        String        NaN  Empty Values  \n..          ...        ...           ...  \n203      String        NaN           NaN  \n204      String        NaN           NaN  \n205      String        NaN           NaN  \n206      String        NaN           NaN  \n207      String        NaN           NaN  \n\n[208 rows x 7 columns]",
      "text/html": "<div>\n<style scoped>\n    .dataframe tbody tr th:only-of-type {\n        vertical-align: middle;\n    }\n\n    .dataframe tbody tr th {\n        vertical-align: top;\n    }\n\n    .dataframe thead th {\n        text-align: right;\n    }\n</style>\n<table border=\"1\" class=\"dataframe\">\n  <thead>\n    <tr style=\"text-align: right;\">\n      <th></th>\n      <th>Fields Name</th>\n      <th>Example</th>\n      <th>Metrics</th>\n      <th>PreprocessingSteps</th>\n      <th>InitialType</th>\n      <th>MetricType</th>\n      <th>Remarks</th>\n    </tr>\n  </thead>\n  <tbody>\n    <tr>\n      <th>0</th>\n      <td>Customer</td>\n      <td>Venky's India Ltd - Nanded (64151)</td>\n      <td>NaN</td>\n      <td>Keep</td>\n      <td>String</td>\n      <td>NaN</td>\n      <td>NaN</td>\n    </tr>\n    <tr>\n      <th>1</th>\n      <td>Lab customer</td>\n      <td>Venky's India Ltd. - Nanded, Nanded, 56080</td>\n      <td>NaN</td>\n      <td>Keep</td>\n      <td>String</td>\n      <td>NaN</td>\n      <td>NaN</td>\n    </tr>\n    <tr>\n      <th>2</th>\n      <td>Country</td>\n      <td>India</td>\n      <td>NaN</td>\n      <td>Keep</td>\n      <td>String</td>\n      <td>NaN</td>\n      <td>NaN</td>\n    </tr>\n    <tr>\n      <th>3</th>\n      <td>Origin</td>\n      <td>India</td>\n      <td>NaN</td>\n      <td>Keep</td>\n      <td>String</td>\n      <td>NaN</td>\n      <td>NaN</td>\n    </tr>\n    <tr>\n      <th>4</th>\n      <td>Origin Subregion</td>\n      <td>NaN</td>\n      <td>NaN</td>\n      <td>Ignore</td>\n      <td>String</td>\n      <td>NaN</td>\n      <td>Empty Values</td>\n    </tr>\n    <tr>\n      <th>...</th>\n      <td>...</td>\n      <td>...</td>\n      <td>...</td>\n      <td>...</td>\n      <td>...</td>\n      <td>...</td>\n      <td>...</td>\n    </tr>\n    <tr>\n      <th>203</th>\n      <td>ASP_SID_CORR_REDBROILER_ASIS_NIR</td>\n      <td>NaN</td>\n      <td>NaN</td>\n      <td>Ignore</td>\n      <td>String</td>\n      <td>NaN</td>\n      <td>NaN</td>\n    </tr>\n    <tr>\n      <th>204</th>\n      <td>GLU_SID_CORR_REDBROILER_ASIS_NIR</td>\n      <td>NaN</td>\n      <td>NaN</td>\n      <td>Ignore</td>\n      <td>String</td>\n      <td>NaN</td>\n      <td>NaN</td>\n    </tr>\n    <tr>\n      <th>205</th>\n      <td>GLY_SID_CORR_REDBROILER_ASIS_NIR</td>\n      <td>NaN</td>\n      <td>NaN</td>\n      <td>Ignore</td>\n      <td>String</td>\n      <td>NaN</td>\n      <td>NaN</td>\n    </tr>\n    <tr>\n      <th>206</th>\n      <td>PRO_SID_CORR_REDBROILER_ASIS_NIR</td>\n      <td>NaN</td>\n      <td>NaN</td>\n      <td>Ignore</td>\n      <td>String</td>\n      <td>NaN</td>\n      <td>NaN</td>\n    </tr>\n    <tr>\n      <th>207</th>\n      <td>SER_SID_CORR_REDBROILER_ASIS_NIR</td>\n      <td>NaN</td>\n      <td>NaN</td>\n      <td>Ignore</td>\n      <td>String</td>\n      <td>NaN</td>\n      <td>NaN</td>\n    </tr>\n  </tbody>\n</table>\n<p>208 rows × 7 columns</p>\n</div>"
     },
     "execution_count": 4,
     "metadata": {},
     "output_type": "execute_result"
    }
   ],
   "source": [
    "data_dictionary_df = pd.read_excel(MAIN_FOLDER_PATH / DATA_DICTIONARY_PATH)\n",
    "data_dictionary_df"
   ]
  },
  {
   "cell_type": "code",
   "execution_count": 5,
   "metadata": {},
   "outputs": [
    {
     "name": "stdout",
     "output_type": "stream",
     "text": [
      "Loading C:\\Data\\MtechCapStone_Y1S1\\RawData\\2022-01.xlsx\n",
      "Loading C:\\Data\\MtechCapStone_Y1S1\\RawData\\2022-02.xlsx\n",
      "Loading C:\\Data\\MtechCapStone_Y1S1\\RawData\\2022-03.xlsx\n",
      "Loading C:\\Data\\MtechCapStone_Y1S1\\RawData\\2022-04.xlsx\n",
      "Loading C:\\Data\\MtechCapStone_Y1S1\\RawData\\2022-05.xlsx\n",
      "Loading C:\\Data\\MtechCapStone_Y1S1\\RawData\\2022-06.xlsx\n",
      "Loading C:\\Data\\MtechCapStone_Y1S1\\RawData\\2022-07.xlsx\n",
      "Loading C:\\Data\\MtechCapStone_Y1S1\\RawData\\2022-08.xlsx\n",
      "Loading C:\\Data\\MtechCapStone_Y1S1\\RawData\\2022-09.xlsx\n",
      "Loading C:\\Data\\MtechCapStone_Y1S1\\RawData\\2022-10.xlsx\n",
      "Loading C:\\Data\\MtechCapStone_Y1S1\\RawData\\2022-11.xlsx\n",
      "Loading C:\\Data\\MtechCapStone_Y1S1\\RawData\\2022-12.xlsx\n"
     ]
    }
   ],
   "source": [
    "COLS_TO_BE_KEPT = data_dictionary_df[data_dictionary_df.PreprocessingSteps.isin(['Keep','Metrics'])]['Fields Name']\n",
    "OUTPUT_LIST = []\n",
    "for raw_file in (MAIN_FOLDER_PATH/RAW_FOLDER_PATH).iterdir():\n",
    "    if \"$\" in str(raw_file):\n",
    "        continue\n",
    "    print(f\"Loading {raw_file}\")\n",
    "    OUTPUT_LIST.append(pd.read_excel(raw_file, usecols=COLS_TO_BE_KEPT))\n",
    "overall_df = pd.concat(OUTPUT_LIST)"
   ]
  },
  {
   "cell_type": "code",
   "execution_count": 6,
   "metadata": {},
   "outputs": [],
   "source": [
    "overall_df = pd.concat(OUTPUT_LIST)"
   ]
  },
  {
   "cell_type": "code",
   "execution_count": 7,
   "metadata": {},
   "outputs": [
    {
     "data": {
      "text/plain": "                                       count  unique  \\\nCustomer                               39395      87   \nLab customer                           39395     108   \nCountry                                39395      14   \nOrigin                                 13043      20   \nSupplier                                3547     275   \nCountry of processing                    417       6   \nLab no                                 39395   39395   \nMaterial type                          39395       1   \nMaterial                               39395       4   \nPhase                                    0.0     NaN   \nRelease date                           39395     324   \nDelivery date                          39395     325   \nDescription                             3714    1366   \nSample Descr. 1                        39273   22369   \nSample Descr. 2                        35901   16360   \nSample Descr. 3                        27642    5700   \nSample Descr. 4                         6580    2180   \nCP_AA_ASIS_NIR                       39435.0  2107.0   \nMET_AA_ASIS_NIR                      39435.0   308.0   \nLYS_AA_ASIS_NIR                      39435.0  1195.0   \nKOH_PS_RED_ASIS_NIR                    18764     441   \nTIA_A_RED_ASIS_NIR                   18764.0   282.0   \nLYS_REACTIVE_LYS_RATIO_RED_ASIS_NIR    18764    6612   \n\n                                                                                   top  \\\nCustomer                                          Shanthi Feeds Private Limited (4080)   \nLab customer                                           Shanthi Feeds, Coimbatore, 3182   \nCountry                                                                          India   \nOrigin                                                                       Argentina   \nSupplier                                                                           FKS   \nCountry of processing                                                        Indonesia   \nLab no                                                                IN22-0000012-001   \nMaterial type                                                            Raw Materials   \nMaterial                                                                  Soybean Meal   \nPhase                                                                              NaN   \nRelease date                                                                2022-10-21   \nDelivery date                                                               2022-10-21   \nDescription                                                                        SBM   \nSample Descr. 1                      AMINONIR ADVANCED Evonik  Full fat Soybean mea...   \nSample Descr. 2                                                                    SBM   \nSample Descr. 3                                           supplier name  SHANTHI FEEDS   \nSample Descr. 4                                                    Silo no.    Bin no.   \nCP_AA_ASIS_NIR                                                                   46.85   \nMET_AA_ASIS_NIR                                                                  0.631   \nLYS_AA_ASIS_NIR                                                                   2.84   \nKOH_PS_RED_ASIS_NIR                                                             > 98.1   \nTIA_A_RED_ASIS_NIR                                                                 3.1   \nLYS_REACTIVE_LYS_RATIO_RED_ASIS_NIR                                           > 94.003   \n\n                                      freq mean  std  min  25%  50%  75%  max  \nCustomer                              6734  NaN  NaN  NaN  NaN  NaN  NaN  NaN  \nLab customer                          6734  NaN  NaN  NaN  NaN  NaN  NaN  NaN  \nCountry                              15719  NaN  NaN  NaN  NaN  NaN  NaN  NaN  \nOrigin                                5914  NaN  NaN  NaN  NaN  NaN  NaN  NaN  \nSupplier                               322  NaN  NaN  NaN  NaN  NaN  NaN  NaN  \nCountry of processing                  240  NaN  NaN  NaN  NaN  NaN  NaN  NaN  \nLab no                                   1  NaN  NaN  NaN  NaN  NaN  NaN  NaN  \nMaterial type                        39395  NaN  NaN  NaN  NaN  NaN  NaN  NaN  \nMaterial                             33906  NaN  NaN  NaN  NaN  NaN  NaN  NaN  \nPhase                                  NaN  NaN  NaN  NaN  NaN  NaN  NaN  NaN  \nRelease date                           674  NaN  NaN  NaN  NaN  NaN  NaN  NaN  \nDelivery date                          674  NaN  NaN  NaN  NaN  NaN  NaN  NaN  \nDescription                            465  NaN  NaN  NaN  NaN  NaN  NaN  NaN  \nSample Descr. 1                       3103  NaN  NaN  NaN  NaN  NaN  NaN  NaN  \nSample Descr. 2                       2256  NaN  NaN  NaN  NaN  NaN  NaN  NaN  \nSample Descr. 3                       2321  NaN  NaN  NaN  NaN  NaN  NaN  NaN  \nSample Descr. 4                        839  NaN  NaN  NaN  NaN  NaN  NaN  NaN  \nCP_AA_ASIS_NIR                       145.0  NaN  NaN  NaN  NaN  NaN  NaN  NaN  \nMET_AA_ASIS_NIR                      595.0  NaN  NaN  NaN  NaN  NaN  NaN  NaN  \nLYS_AA_ASIS_NIR                      158.0  NaN  NaN  NaN  NaN  NaN  NaN  NaN  \nKOH_PS_RED_ASIS_NIR                    231  NaN  NaN  NaN  NaN  NaN  NaN  NaN  \nTIA_A_RED_ASIS_NIR                   629.0  NaN  NaN  NaN  NaN  NaN  NaN  NaN  \nLYS_REACTIVE_LYS_RATIO_RED_ASIS_NIR     57  NaN  NaN  NaN  NaN  NaN  NaN  NaN  ",
      "text/html": "<div>\n<style scoped>\n    .dataframe tbody tr th:only-of-type {\n        vertical-align: middle;\n    }\n\n    .dataframe tbody tr th {\n        vertical-align: top;\n    }\n\n    .dataframe thead th {\n        text-align: right;\n    }\n</style>\n<table border=\"1\" class=\"dataframe\">\n  <thead>\n    <tr style=\"text-align: right;\">\n      <th></th>\n      <th>count</th>\n      <th>unique</th>\n      <th>top</th>\n      <th>freq</th>\n      <th>mean</th>\n      <th>std</th>\n      <th>min</th>\n      <th>25%</th>\n      <th>50%</th>\n      <th>75%</th>\n      <th>max</th>\n    </tr>\n  </thead>\n  <tbody>\n    <tr>\n      <th>Customer</th>\n      <td>39395</td>\n      <td>87</td>\n      <td>Shanthi Feeds Private Limited (4080)</td>\n      <td>6734</td>\n      <td>NaN</td>\n      <td>NaN</td>\n      <td>NaN</td>\n      <td>NaN</td>\n      <td>NaN</td>\n      <td>NaN</td>\n      <td>NaN</td>\n    </tr>\n    <tr>\n      <th>Lab customer</th>\n      <td>39395</td>\n      <td>108</td>\n      <td>Shanthi Feeds, Coimbatore, 3182</td>\n      <td>6734</td>\n      <td>NaN</td>\n      <td>NaN</td>\n      <td>NaN</td>\n      <td>NaN</td>\n      <td>NaN</td>\n      <td>NaN</td>\n      <td>NaN</td>\n    </tr>\n    <tr>\n      <th>Country</th>\n      <td>39395</td>\n      <td>14</td>\n      <td>India</td>\n      <td>15719</td>\n      <td>NaN</td>\n      <td>NaN</td>\n      <td>NaN</td>\n      <td>NaN</td>\n      <td>NaN</td>\n      <td>NaN</td>\n      <td>NaN</td>\n    </tr>\n    <tr>\n      <th>Origin</th>\n      <td>13043</td>\n      <td>20</td>\n      <td>Argentina</td>\n      <td>5914</td>\n      <td>NaN</td>\n      <td>NaN</td>\n      <td>NaN</td>\n      <td>NaN</td>\n      <td>NaN</td>\n      <td>NaN</td>\n      <td>NaN</td>\n    </tr>\n    <tr>\n      <th>Supplier</th>\n      <td>3547</td>\n      <td>275</td>\n      <td>FKS</td>\n      <td>322</td>\n      <td>NaN</td>\n      <td>NaN</td>\n      <td>NaN</td>\n      <td>NaN</td>\n      <td>NaN</td>\n      <td>NaN</td>\n      <td>NaN</td>\n    </tr>\n    <tr>\n      <th>Country of processing</th>\n      <td>417</td>\n      <td>6</td>\n      <td>Indonesia</td>\n      <td>240</td>\n      <td>NaN</td>\n      <td>NaN</td>\n      <td>NaN</td>\n      <td>NaN</td>\n      <td>NaN</td>\n      <td>NaN</td>\n      <td>NaN</td>\n    </tr>\n    <tr>\n      <th>Lab no</th>\n      <td>39395</td>\n      <td>39395</td>\n      <td>IN22-0000012-001</td>\n      <td>1</td>\n      <td>NaN</td>\n      <td>NaN</td>\n      <td>NaN</td>\n      <td>NaN</td>\n      <td>NaN</td>\n      <td>NaN</td>\n      <td>NaN</td>\n    </tr>\n    <tr>\n      <th>Material type</th>\n      <td>39395</td>\n      <td>1</td>\n      <td>Raw Materials</td>\n      <td>39395</td>\n      <td>NaN</td>\n      <td>NaN</td>\n      <td>NaN</td>\n      <td>NaN</td>\n      <td>NaN</td>\n      <td>NaN</td>\n      <td>NaN</td>\n    </tr>\n    <tr>\n      <th>Material</th>\n      <td>39395</td>\n      <td>4</td>\n      <td>Soybean Meal</td>\n      <td>33906</td>\n      <td>NaN</td>\n      <td>NaN</td>\n      <td>NaN</td>\n      <td>NaN</td>\n      <td>NaN</td>\n      <td>NaN</td>\n      <td>NaN</td>\n    </tr>\n    <tr>\n      <th>Phase</th>\n      <td>0.0</td>\n      <td>NaN</td>\n      <td>NaN</td>\n      <td>NaN</td>\n      <td>NaN</td>\n      <td>NaN</td>\n      <td>NaN</td>\n      <td>NaN</td>\n      <td>NaN</td>\n      <td>NaN</td>\n      <td>NaN</td>\n    </tr>\n    <tr>\n      <th>Release date</th>\n      <td>39395</td>\n      <td>324</td>\n      <td>2022-10-21</td>\n      <td>674</td>\n      <td>NaN</td>\n      <td>NaN</td>\n      <td>NaN</td>\n      <td>NaN</td>\n      <td>NaN</td>\n      <td>NaN</td>\n      <td>NaN</td>\n    </tr>\n    <tr>\n      <th>Delivery date</th>\n      <td>39395</td>\n      <td>325</td>\n      <td>2022-10-21</td>\n      <td>674</td>\n      <td>NaN</td>\n      <td>NaN</td>\n      <td>NaN</td>\n      <td>NaN</td>\n      <td>NaN</td>\n      <td>NaN</td>\n      <td>NaN</td>\n    </tr>\n    <tr>\n      <th>Description</th>\n      <td>3714</td>\n      <td>1366</td>\n      <td>SBM</td>\n      <td>465</td>\n      <td>NaN</td>\n      <td>NaN</td>\n      <td>NaN</td>\n      <td>NaN</td>\n      <td>NaN</td>\n      <td>NaN</td>\n      <td>NaN</td>\n    </tr>\n    <tr>\n      <th>Sample Descr. 1</th>\n      <td>39273</td>\n      <td>22369</td>\n      <td>AMINONIR ADVANCED Evonik  Full fat Soybean mea...</td>\n      <td>3103</td>\n      <td>NaN</td>\n      <td>NaN</td>\n      <td>NaN</td>\n      <td>NaN</td>\n      <td>NaN</td>\n      <td>NaN</td>\n      <td>NaN</td>\n    </tr>\n    <tr>\n      <th>Sample Descr. 2</th>\n      <td>35901</td>\n      <td>16360</td>\n      <td>SBM</td>\n      <td>2256</td>\n      <td>NaN</td>\n      <td>NaN</td>\n      <td>NaN</td>\n      <td>NaN</td>\n      <td>NaN</td>\n      <td>NaN</td>\n      <td>NaN</td>\n    </tr>\n    <tr>\n      <th>Sample Descr. 3</th>\n      <td>27642</td>\n      <td>5700</td>\n      <td>supplier name  SHANTHI FEEDS</td>\n      <td>2321</td>\n      <td>NaN</td>\n      <td>NaN</td>\n      <td>NaN</td>\n      <td>NaN</td>\n      <td>NaN</td>\n      <td>NaN</td>\n      <td>NaN</td>\n    </tr>\n    <tr>\n      <th>Sample Descr. 4</th>\n      <td>6580</td>\n      <td>2180</td>\n      <td>Silo no.    Bin no.</td>\n      <td>839</td>\n      <td>NaN</td>\n      <td>NaN</td>\n      <td>NaN</td>\n      <td>NaN</td>\n      <td>NaN</td>\n      <td>NaN</td>\n      <td>NaN</td>\n    </tr>\n    <tr>\n      <th>CP_AA_ASIS_NIR</th>\n      <td>39435.0</td>\n      <td>2107.0</td>\n      <td>46.85</td>\n      <td>145.0</td>\n      <td>NaN</td>\n      <td>NaN</td>\n      <td>NaN</td>\n      <td>NaN</td>\n      <td>NaN</td>\n      <td>NaN</td>\n      <td>NaN</td>\n    </tr>\n    <tr>\n      <th>MET_AA_ASIS_NIR</th>\n      <td>39435.0</td>\n      <td>308.0</td>\n      <td>0.631</td>\n      <td>595.0</td>\n      <td>NaN</td>\n      <td>NaN</td>\n      <td>NaN</td>\n      <td>NaN</td>\n      <td>NaN</td>\n      <td>NaN</td>\n      <td>NaN</td>\n    </tr>\n    <tr>\n      <th>LYS_AA_ASIS_NIR</th>\n      <td>39435.0</td>\n      <td>1195.0</td>\n      <td>2.84</td>\n      <td>158.0</td>\n      <td>NaN</td>\n      <td>NaN</td>\n      <td>NaN</td>\n      <td>NaN</td>\n      <td>NaN</td>\n      <td>NaN</td>\n      <td>NaN</td>\n    </tr>\n    <tr>\n      <th>KOH_PS_RED_ASIS_NIR</th>\n      <td>18764</td>\n      <td>441</td>\n      <td>&gt; 98.1</td>\n      <td>231</td>\n      <td>NaN</td>\n      <td>NaN</td>\n      <td>NaN</td>\n      <td>NaN</td>\n      <td>NaN</td>\n      <td>NaN</td>\n      <td>NaN</td>\n    </tr>\n    <tr>\n      <th>TIA_A_RED_ASIS_NIR</th>\n      <td>18764.0</td>\n      <td>282.0</td>\n      <td>3.1</td>\n      <td>629.0</td>\n      <td>NaN</td>\n      <td>NaN</td>\n      <td>NaN</td>\n      <td>NaN</td>\n      <td>NaN</td>\n      <td>NaN</td>\n      <td>NaN</td>\n    </tr>\n    <tr>\n      <th>LYS_REACTIVE_LYS_RATIO_RED_ASIS_NIR</th>\n      <td>18764</td>\n      <td>6612</td>\n      <td>&gt; 94.003</td>\n      <td>57</td>\n      <td>NaN</td>\n      <td>NaN</td>\n      <td>NaN</td>\n      <td>NaN</td>\n      <td>NaN</td>\n      <td>NaN</td>\n      <td>NaN</td>\n    </tr>\n  </tbody>\n</table>\n</div>"
     },
     "execution_count": 7,
     "metadata": {},
     "output_type": "execute_result"
    }
   ],
   "source": [
    "overall_df.describe(include='all').T"
   ]
  },
  {
   "cell_type": "code",
   "execution_count": 8,
   "metadata": {},
   "outputs": [],
   "source": [
    "filtered_df = overall_df.copy()\n",
    "filtered_df = filtered_df[~pd.isna(filtered_df['Lab no'])]\n",
    "filtered_df['Customer_ID'] = filtered_df['Customer'].str.extract('\\(([0-9.]+)\\)')\n",
    "filtered_df['Customer_Name'] = filtered_df['Customer'].str.extract('([^(]+)')\n",
    "filtered_df['Customer_Name'] = filtered_df['Customer_Name'].str.upper().str.strip()\n",
    "filtered_df['Lab_Customer_ID'] = filtered_df['Lab customer'].str.extract('\\(([0-9.]+)\\)')\n",
    "filtered_df['Lab_Customer_Name'] = filtered_df['Lab customer'].str.extract('([^(]+)')\n",
    "filtered_df['Lab_Customer_Name'] = filtered_df['Lab_Customer_Name'].str.upper().str.strip()\n",
    "filtered_df = filtered_df.replace({'<NA>': np.NaN})\n",
    "## Preprocessing\n",
    "def normalisation(series, top=3, btm=-3):\n",
    "    return ((series - series.mean()) / series.std()).apply(lambda x: min(max(x, btm), top))\n",
    "\n",
    "def zto100(score, top=18, btm=-18):\n",
    "    return (min(max(score, btm), top)-btm)/(top-btm) * 100\n",
    "\n",
    "METRIC_COL = data_dictionary_df[data_dictionary_df.PreprocessingSteps.isin(['Metrics'])]['Fields Name']\n",
    "NUTRITION_COL = data_dictionary_df[data_dictionary_df.MetricType.isin(['Nutrition'])]['Fields Name']\n",
    "PROCESSING_COL = data_dictionary_df[data_dictionary_df.MetricType.isin(['Processing'])]['Fields Name']\n",
    "\n",
    "for metric_col in METRIC_COL:\n",
    "    filtered_df[metric_col] = filtered_df[metric_col].astype('str').str.extract('([0-9.]+)').apply(pd.to_numeric)\n",
    "    if data_dictionary_df[data_dictionary_df['Fields Name'] == metric_col]['Metrics'].iloc[0] == 'Lower the better':\n",
    "        filtered_df[metric_col+ '_z_score'] = normalisation(filtered_df[metric_col] * -1).fillna(-3)\n",
    "    filtered_df[metric_col+ '_z_score'] = normalisation(filtered_df[metric_col]).fillna(-3)\n",
    "    filtered_df[metric_col + '_score'] = filtered_df[metric_col + '_z_score'].apply(zto100, args=[3,-3])\n",
    "NON_METRIC_COL = data_dictionary_df[data_dictionary_df.PreprocessingSteps.isin(['Keep'])]['Fields Name']\n",
    "\n",
    "for non_metric_col in NON_METRIC_COL:\n",
    "    filtered_df[non_metric_col] = filtered_df[non_metric_col].fillna('NoInfo')\n",
    "\n",
    "filtered_df['Holistic Z Score'] = filtered_df[[metric_col + '_z_score' for metric_col in METRIC_COL]].sum(axis=1)\n",
    "filtered_df['Holistic Score'] = filtered_df['Holistic Z Score'].apply(zto100)\n",
    "filtered_df['Nutrition Z Score'] = filtered_df[[metric_col + '_z_score' for metric_col in NUTRITION_COL]].sum(axis=1)\n",
    "filtered_df['Nutrition Score'] = filtered_df['Nutrition Z Score'].apply(zto100)\n",
    "filtered_df['Processing Z Score'] = filtered_df[[metric_col + '_z_score' for metric_col in PROCESSING_COL]].sum(axis=1)\n",
    "filtered_df['Processing Score'] = filtered_df['Processing Z Score'].apply(zto100)"
   ]
  },
  {
   "cell_type": "code",
   "execution_count": 9,
   "outputs": [],
   "source": [
    "filtered_df.to_excel(OUTPUT_FILE, index=False)"
   ],
   "metadata": {
    "collapsed": false
   }
  },
  {
   "cell_type": "code",
   "execution_count": 89,
   "outputs": [],
   "source": [
    "# Create Dimensions Table\n",
    "UNIQUE_MATERIAL = filtered_df['Material'].unique()\n",
    "UNIQUE_COUNTRY = filtered_df['Country'].unique()\n",
    "\n",
    "output = []\n",
    "aggfunc = ['median', 'average']\n",
    "cols_to_agg = ['Nutrition Score','Processing Score', 'Holistic Score']\n",
    "\n",
    "for material in UNIQUE_MATERIAL:\n",
    "    for country in UNIQUE_COUNTRY:\n",
    "        temp_df = filtered_df[(filtered_df['Material'] == material) & (filtered_df['Country'] == country)]\n",
    "        o = [material, country]\n",
    "        m = []\n",
    "        for func in aggfunc:\n",
    "            for col in cols_to_agg:\n",
    "                m.append(func + col.replace(' ', ''))\n",
    "                if len(temp_df[col].dropna()) != 0:\n",
    "                    o.append(temp_df[col].agg(func))\n",
    "                else:\n",
    "                    o.append(0)\n",
    "        output.append(o)\n",
    "\n",
    "holistic_df = pd.DataFrame(output)\n",
    "holistic_df.columns = ['material', 'country', *m]\n"
   ],
   "metadata": {
    "collapsed": false
   }
  },
  {
   "cell_type": "code",
   "execution_count": 90,
   "outputs": [
    {
     "data": {
      "text/plain": "        Soybean, Raw    Singapore  medianNutritionScore  \\\n0       Soybean Meal        India             52.625071   \n1       Soybean Meal        Nepal             53.679159   \n2       Soybean Meal     Pakistan             52.428167   \n3       Soybean Meal      Vietnam             47.179738   \n4       Soybean Meal    Indonesia             55.175153   \n5       Soybean Meal  Philippines             54.718281   \n6       Soybean Meal    Sri Lanka             51.792896   \n7       Soybean Meal     Malaysia             51.818871   \n8       Soybean Meal     Thailand             57.068229   \n9       Soybean Meal    Australia             52.179337   \n10      Soybean Meal   Bangladesh             52.857952   \n11      Soybean Meal  New Zealand             53.693491   \n12      Soybean Meal      Myanmar             54.224408   \n13      Soybean Meal    Singapore             56.927444   \n14  Soybean Full Fat        India             36.323637   \n15  Soybean Full Fat        Nepal             28.255467   \n16  Soybean Full Fat     Pakistan             28.801812   \n17  Soybean Full Fat      Vietnam             27.784888   \n18  Soybean Full Fat    Indonesia             26.226015   \n19  Soybean Full Fat  Philippines             27.772987   \n20  Soybean Full Fat    Sri Lanka             31.796591   \n21  Soybean Full Fat     Malaysia             29.231939   \n22  Soybean Full Fat     Thailand             28.521642   \n23  Soybean Full Fat    Australia             44.681845   \n24  Soybean Full Fat   Bangladesh             25.497340   \n25  Soybean Full Fat  New Zealand              0.000000   \n26  Soybean Full Fat      Myanmar             35.763585   \n27  Soybean Full Fat    Singapore              0.000000   \n28  Soybean Expeller        India             41.998772   \n29  Soybean Expeller        Nepal             44.852134   \n30  Soybean Expeller     Pakistan              0.000000   \n31  Soybean Expeller      Vietnam              0.000000   \n32  Soybean Expeller    Indonesia              0.000000   \n33  Soybean Expeller  Philippines              0.000000   \n34  Soybean Expeller    Sri Lanka              0.000000   \n35  Soybean Expeller     Malaysia              0.000000   \n36  Soybean Expeller     Thailand              0.000000   \n37  Soybean Expeller    Australia             48.836148   \n38  Soybean Expeller   Bangladesh              0.000000   \n39  Soybean Expeller  New Zealand              0.000000   \n40  Soybean Expeller      Myanmar             56.779377   \n41  Soybean Expeller    Singapore              0.000000   \n42      Soybean, Raw        India             35.414926   \n43      Soybean, Raw        Nepal              0.000000   \n44      Soybean, Raw     Pakistan             30.726764   \n45      Soybean, Raw      Vietnam             26.662562   \n46      Soybean, Raw    Indonesia              0.000000   \n47      Soybean, Raw  Philippines             27.378854   \n48      Soybean, Raw    Sri Lanka              0.000000   \n49      Soybean, Raw     Malaysia              0.000000   \n50      Soybean, Raw     Thailand              0.000000   \n51      Soybean, Raw    Australia              0.000000   \n52      Soybean, Raw   Bangladesh             32.230922   \n53      Soybean, Raw  New Zealand              0.000000   \n54      Soybean, Raw      Myanmar              0.000000   \n55      Soybean, Raw    Singapore              0.000000   \n\n    medianProcessingScore  medianHolisticScore  averageNutritionScore  \\\n0               25.000000            29.590886              53.038742   \n1               25.000000            29.207902              52.794134   \n2               45.362510            48.017602              52.497715   \n3               25.000000            22.179738              48.382971   \n4               48.052374            52.183930              54.891399   \n5               46.306224            50.609051              54.570795   \n6               25.000000            26.931967              51.778921   \n7               25.000000            26.823401              52.329358   \n8               25.000000            32.385539              56.857777   \n9               47.694944            49.334586              51.911320   \n10              25.000000            27.857952              53.191602   \n11              46.440047            50.196693              53.715236   \n12              25.000000            29.339536              54.154122   \n13              45.428218            51.197735              56.332690   \n14              53.063457            39.988641              36.261765   \n15              25.000000             3.255467              28.262922   \n16              36.898502            14.650320              29.144474   \n17              25.000000             7.665938              27.951444   \n18              48.066708            24.633067              26.768538   \n19              43.173138            20.651590              27.921309   \n20              25.000000             6.796591              32.086475   \n21              25.000000             4.337193              29.223518   \n22              25.000000             4.183379              28.607094   \n23              56.036178            50.718023              44.681845   \n24              25.000000             0.497340              28.560794   \n25               0.000000             0.000000               0.000000   \n26              66.810121            52.109093              34.521031   \n27               0.000000             0.000000               0.000000   \n28              25.000000            16.998772              44.517840   \n29              25.000000            19.852134              44.852134   \n30               0.000000             0.000000               0.000000   \n31               0.000000             0.000000               0.000000   \n32               0.000000             0.000000               0.000000   \n33               0.000000             0.000000               0.000000   \n34               0.000000             0.000000               0.000000   \n35               0.000000             0.000000               0.000000   \n36               0.000000             0.000000               0.000000   \n37              59.512134            58.348282              48.836148   \n38               0.000000             0.000000               0.000000   \n39               0.000000             0.000000               0.000000   \n40              25.000000            31.779377              56.779377   \n41               0.000000             0.000000               0.000000   \n42              68.165212            53.244601              35.658683   \n43               0.000000             0.000000               0.000000   \n44              66.988228            48.800613              31.390781   \n45              60.641800            37.304361              26.619414   \n46               0.000000             0.000000               0.000000   \n47              25.000000             3.926462              27.876005   \n48               0.000000             0.000000               0.000000   \n49               0.000000             0.000000               0.000000   \n50               0.000000             0.000000               0.000000   \n51               0.000000             0.000000               0.000000   \n52              25.000000             7.230922              33.486441   \n53               0.000000             0.000000               0.000000   \n54               0.000000             0.000000               0.000000   \n55               0.000000             0.000000               0.000000   \n\n    averageProcessingScore  averageHolisticScore  \n0                33.293974             36.332716  \n1                25.629737             28.423871  \n2                44.180875             46.678590  \n3                27.650674             26.033646  \n4                42.405414             47.296813  \n5                40.880705             45.451500  \n6                26.572569             28.351490  \n7                27.779677             30.109035  \n8                29.612748             36.470525  \n9                47.634732             49.546052  \n10               25.000000             28.191602  \n11               45.745106             49.460342  \n12               25.666970             29.821092  \n13               45.097160             51.429851  \n14               54.076421             40.338186  \n15               25.118786              3.381709  \n16               37.421050             16.565524  \n17               35.791327             13.742771  \n18               46.854571             23.623110  \n19               41.141579             19.062889  \n20               25.946839              8.033314  \n21               29.421411              8.644929  \n22               29.601539              8.208633  \n23               56.036178             50.718023  \n24               25.000000              3.560794  \n25                0.000000              0.000000  \n26               59.081132             43.602163  \n27                0.000000              0.000000  \n28               28.897522             23.415362  \n29               25.000000             19.852134  \n30                0.000000              0.000000  \n31                0.000000              0.000000  \n32                0.000000              0.000000  \n33                0.000000              0.000000  \n34                0.000000              0.000000  \n35                0.000000              0.000000  \n36                0.000000              0.000000  \n37               59.512134             58.348282  \n38                0.000000              0.000000  \n39                0.000000              0.000000  \n40               25.000000             31.779377  \n41                0.000000              0.000000  \n42               66.314199             51.972882  \n43                0.000000              0.000000  \n44               67.278474             48.669255  \n45               53.230788             29.850201  \n46                0.000000              0.000000  \n47               38.874943             16.750948  \n48                0.000000              0.000000  \n49                0.000000              0.000000  \n50                0.000000              0.000000  \n51                0.000000              0.000000  \n52               25.000000              8.486441  \n53                0.000000              0.000000  \n54                0.000000              0.000000  \n55                0.000000              0.000000  ",
      "text/html": "<div>\n<style scoped>\n    .dataframe tbody tr th:only-of-type {\n        vertical-align: middle;\n    }\n\n    .dataframe tbody tr th {\n        vertical-align: top;\n    }\n\n    .dataframe thead th {\n        text-align: right;\n    }\n</style>\n<table border=\"1\" class=\"dataframe\">\n  <thead>\n    <tr style=\"text-align: right;\">\n      <th></th>\n      <th>Soybean, Raw</th>\n      <th>Singapore</th>\n      <th>medianNutritionScore</th>\n      <th>medianProcessingScore</th>\n      <th>medianHolisticScore</th>\n      <th>averageNutritionScore</th>\n      <th>averageProcessingScore</th>\n      <th>averageHolisticScore</th>\n    </tr>\n  </thead>\n  <tbody>\n    <tr>\n      <th>0</th>\n      <td>Soybean Meal</td>\n      <td>India</td>\n      <td>52.625071</td>\n      <td>25.000000</td>\n      <td>29.590886</td>\n      <td>53.038742</td>\n      <td>33.293974</td>\n      <td>36.332716</td>\n    </tr>\n    <tr>\n      <th>1</th>\n      <td>Soybean Meal</td>\n      <td>Nepal</td>\n      <td>53.679159</td>\n      <td>25.000000</td>\n      <td>29.207902</td>\n      <td>52.794134</td>\n      <td>25.629737</td>\n      <td>28.423871</td>\n    </tr>\n    <tr>\n      <th>2</th>\n      <td>Soybean Meal</td>\n      <td>Pakistan</td>\n      <td>52.428167</td>\n      <td>45.362510</td>\n      <td>48.017602</td>\n      <td>52.497715</td>\n      <td>44.180875</td>\n      <td>46.678590</td>\n    </tr>\n    <tr>\n      <th>3</th>\n      <td>Soybean Meal</td>\n      <td>Vietnam</td>\n      <td>47.179738</td>\n      <td>25.000000</td>\n      <td>22.179738</td>\n      <td>48.382971</td>\n      <td>27.650674</td>\n      <td>26.033646</td>\n    </tr>\n    <tr>\n      <th>4</th>\n      <td>Soybean Meal</td>\n      <td>Indonesia</td>\n      <td>55.175153</td>\n      <td>48.052374</td>\n      <td>52.183930</td>\n      <td>54.891399</td>\n      <td>42.405414</td>\n      <td>47.296813</td>\n    </tr>\n    <tr>\n      <th>5</th>\n      <td>Soybean Meal</td>\n      <td>Philippines</td>\n      <td>54.718281</td>\n      <td>46.306224</td>\n      <td>50.609051</td>\n      <td>54.570795</td>\n      <td>40.880705</td>\n      <td>45.451500</td>\n    </tr>\n    <tr>\n      <th>6</th>\n      <td>Soybean Meal</td>\n      <td>Sri Lanka</td>\n      <td>51.792896</td>\n      <td>25.000000</td>\n      <td>26.931967</td>\n      <td>51.778921</td>\n      <td>26.572569</td>\n      <td>28.351490</td>\n    </tr>\n    <tr>\n      <th>7</th>\n      <td>Soybean Meal</td>\n      <td>Malaysia</td>\n      <td>51.818871</td>\n      <td>25.000000</td>\n      <td>26.823401</td>\n      <td>52.329358</td>\n      <td>27.779677</td>\n      <td>30.109035</td>\n    </tr>\n    <tr>\n      <th>8</th>\n      <td>Soybean Meal</td>\n      <td>Thailand</td>\n      <td>57.068229</td>\n      <td>25.000000</td>\n      <td>32.385539</td>\n      <td>56.857777</td>\n      <td>29.612748</td>\n      <td>36.470525</td>\n    </tr>\n    <tr>\n      <th>9</th>\n      <td>Soybean Meal</td>\n      <td>Australia</td>\n      <td>52.179337</td>\n      <td>47.694944</td>\n      <td>49.334586</td>\n      <td>51.911320</td>\n      <td>47.634732</td>\n      <td>49.546052</td>\n    </tr>\n    <tr>\n      <th>10</th>\n      <td>Soybean Meal</td>\n      <td>Bangladesh</td>\n      <td>52.857952</td>\n      <td>25.000000</td>\n      <td>27.857952</td>\n      <td>53.191602</td>\n      <td>25.000000</td>\n      <td>28.191602</td>\n    </tr>\n    <tr>\n      <th>11</th>\n      <td>Soybean Meal</td>\n      <td>New Zealand</td>\n      <td>53.693491</td>\n      <td>46.440047</td>\n      <td>50.196693</td>\n      <td>53.715236</td>\n      <td>45.745106</td>\n      <td>49.460342</td>\n    </tr>\n    <tr>\n      <th>12</th>\n      <td>Soybean Meal</td>\n      <td>Myanmar</td>\n      <td>54.224408</td>\n      <td>25.000000</td>\n      <td>29.339536</td>\n      <td>54.154122</td>\n      <td>25.666970</td>\n      <td>29.821092</td>\n    </tr>\n    <tr>\n      <th>13</th>\n      <td>Soybean Meal</td>\n      <td>Singapore</td>\n      <td>56.927444</td>\n      <td>45.428218</td>\n      <td>51.197735</td>\n      <td>56.332690</td>\n      <td>45.097160</td>\n      <td>51.429851</td>\n    </tr>\n    <tr>\n      <th>14</th>\n      <td>Soybean Full Fat</td>\n      <td>India</td>\n      <td>36.323637</td>\n      <td>53.063457</td>\n      <td>39.988641</td>\n      <td>36.261765</td>\n      <td>54.076421</td>\n      <td>40.338186</td>\n    </tr>\n    <tr>\n      <th>15</th>\n      <td>Soybean Full Fat</td>\n      <td>Nepal</td>\n      <td>28.255467</td>\n      <td>25.000000</td>\n      <td>3.255467</td>\n      <td>28.262922</td>\n      <td>25.118786</td>\n      <td>3.381709</td>\n    </tr>\n    <tr>\n      <th>16</th>\n      <td>Soybean Full Fat</td>\n      <td>Pakistan</td>\n      <td>28.801812</td>\n      <td>36.898502</td>\n      <td>14.650320</td>\n      <td>29.144474</td>\n      <td>37.421050</td>\n      <td>16.565524</td>\n    </tr>\n    <tr>\n      <th>17</th>\n      <td>Soybean Full Fat</td>\n      <td>Vietnam</td>\n      <td>27.784888</td>\n      <td>25.000000</td>\n      <td>7.665938</td>\n      <td>27.951444</td>\n      <td>35.791327</td>\n      <td>13.742771</td>\n    </tr>\n    <tr>\n      <th>18</th>\n      <td>Soybean Full Fat</td>\n      <td>Indonesia</td>\n      <td>26.226015</td>\n      <td>48.066708</td>\n      <td>24.633067</td>\n      <td>26.768538</td>\n      <td>46.854571</td>\n      <td>23.623110</td>\n    </tr>\n    <tr>\n      <th>19</th>\n      <td>Soybean Full Fat</td>\n      <td>Philippines</td>\n      <td>27.772987</td>\n      <td>43.173138</td>\n      <td>20.651590</td>\n      <td>27.921309</td>\n      <td>41.141579</td>\n      <td>19.062889</td>\n    </tr>\n    <tr>\n      <th>20</th>\n      <td>Soybean Full Fat</td>\n      <td>Sri Lanka</td>\n      <td>31.796591</td>\n      <td>25.000000</td>\n      <td>6.796591</td>\n      <td>32.086475</td>\n      <td>25.946839</td>\n      <td>8.033314</td>\n    </tr>\n    <tr>\n      <th>21</th>\n      <td>Soybean Full Fat</td>\n      <td>Malaysia</td>\n      <td>29.231939</td>\n      <td>25.000000</td>\n      <td>4.337193</td>\n      <td>29.223518</td>\n      <td>29.421411</td>\n      <td>8.644929</td>\n    </tr>\n    <tr>\n      <th>22</th>\n      <td>Soybean Full Fat</td>\n      <td>Thailand</td>\n      <td>28.521642</td>\n      <td>25.000000</td>\n      <td>4.183379</td>\n      <td>28.607094</td>\n      <td>29.601539</td>\n      <td>8.208633</td>\n    </tr>\n    <tr>\n      <th>23</th>\n      <td>Soybean Full Fat</td>\n      <td>Australia</td>\n      <td>44.681845</td>\n      <td>56.036178</td>\n      <td>50.718023</td>\n      <td>44.681845</td>\n      <td>56.036178</td>\n      <td>50.718023</td>\n    </tr>\n    <tr>\n      <th>24</th>\n      <td>Soybean Full Fat</td>\n      <td>Bangladesh</td>\n      <td>25.497340</td>\n      <td>25.000000</td>\n      <td>0.497340</td>\n      <td>28.560794</td>\n      <td>25.000000</td>\n      <td>3.560794</td>\n    </tr>\n    <tr>\n      <th>25</th>\n      <td>Soybean Full Fat</td>\n      <td>New Zealand</td>\n      <td>0.000000</td>\n      <td>0.000000</td>\n      <td>0.000000</td>\n      <td>0.000000</td>\n      <td>0.000000</td>\n      <td>0.000000</td>\n    </tr>\n    <tr>\n      <th>26</th>\n      <td>Soybean Full Fat</td>\n      <td>Myanmar</td>\n      <td>35.763585</td>\n      <td>66.810121</td>\n      <td>52.109093</td>\n      <td>34.521031</td>\n      <td>59.081132</td>\n      <td>43.602163</td>\n    </tr>\n    <tr>\n      <th>27</th>\n      <td>Soybean Full Fat</td>\n      <td>Singapore</td>\n      <td>0.000000</td>\n      <td>0.000000</td>\n      <td>0.000000</td>\n      <td>0.000000</td>\n      <td>0.000000</td>\n      <td>0.000000</td>\n    </tr>\n    <tr>\n      <th>28</th>\n      <td>Soybean Expeller</td>\n      <td>India</td>\n      <td>41.998772</td>\n      <td>25.000000</td>\n      <td>16.998772</td>\n      <td>44.517840</td>\n      <td>28.897522</td>\n      <td>23.415362</td>\n    </tr>\n    <tr>\n      <th>29</th>\n      <td>Soybean Expeller</td>\n      <td>Nepal</td>\n      <td>44.852134</td>\n      <td>25.000000</td>\n      <td>19.852134</td>\n      <td>44.852134</td>\n      <td>25.000000</td>\n      <td>19.852134</td>\n    </tr>\n    <tr>\n      <th>30</th>\n      <td>Soybean Expeller</td>\n      <td>Pakistan</td>\n      <td>0.000000</td>\n      <td>0.000000</td>\n      <td>0.000000</td>\n      <td>0.000000</td>\n      <td>0.000000</td>\n      <td>0.000000</td>\n    </tr>\n    <tr>\n      <th>31</th>\n      <td>Soybean Expeller</td>\n      <td>Vietnam</td>\n      <td>0.000000</td>\n      <td>0.000000</td>\n      <td>0.000000</td>\n      <td>0.000000</td>\n      <td>0.000000</td>\n      <td>0.000000</td>\n    </tr>\n    <tr>\n      <th>32</th>\n      <td>Soybean Expeller</td>\n      <td>Indonesia</td>\n      <td>0.000000</td>\n      <td>0.000000</td>\n      <td>0.000000</td>\n      <td>0.000000</td>\n      <td>0.000000</td>\n      <td>0.000000</td>\n    </tr>\n    <tr>\n      <th>33</th>\n      <td>Soybean Expeller</td>\n      <td>Philippines</td>\n      <td>0.000000</td>\n      <td>0.000000</td>\n      <td>0.000000</td>\n      <td>0.000000</td>\n      <td>0.000000</td>\n      <td>0.000000</td>\n    </tr>\n    <tr>\n      <th>34</th>\n      <td>Soybean Expeller</td>\n      <td>Sri Lanka</td>\n      <td>0.000000</td>\n      <td>0.000000</td>\n      <td>0.000000</td>\n      <td>0.000000</td>\n      <td>0.000000</td>\n      <td>0.000000</td>\n    </tr>\n    <tr>\n      <th>35</th>\n      <td>Soybean Expeller</td>\n      <td>Malaysia</td>\n      <td>0.000000</td>\n      <td>0.000000</td>\n      <td>0.000000</td>\n      <td>0.000000</td>\n      <td>0.000000</td>\n      <td>0.000000</td>\n    </tr>\n    <tr>\n      <th>36</th>\n      <td>Soybean Expeller</td>\n      <td>Thailand</td>\n      <td>0.000000</td>\n      <td>0.000000</td>\n      <td>0.000000</td>\n      <td>0.000000</td>\n      <td>0.000000</td>\n      <td>0.000000</td>\n    </tr>\n    <tr>\n      <th>37</th>\n      <td>Soybean Expeller</td>\n      <td>Australia</td>\n      <td>48.836148</td>\n      <td>59.512134</td>\n      <td>58.348282</td>\n      <td>48.836148</td>\n      <td>59.512134</td>\n      <td>58.348282</td>\n    </tr>\n    <tr>\n      <th>38</th>\n      <td>Soybean Expeller</td>\n      <td>Bangladesh</td>\n      <td>0.000000</td>\n      <td>0.000000</td>\n      <td>0.000000</td>\n      <td>0.000000</td>\n      <td>0.000000</td>\n      <td>0.000000</td>\n    </tr>\n    <tr>\n      <th>39</th>\n      <td>Soybean Expeller</td>\n      <td>New Zealand</td>\n      <td>0.000000</td>\n      <td>0.000000</td>\n      <td>0.000000</td>\n      <td>0.000000</td>\n      <td>0.000000</td>\n      <td>0.000000</td>\n    </tr>\n    <tr>\n      <th>40</th>\n      <td>Soybean Expeller</td>\n      <td>Myanmar</td>\n      <td>56.779377</td>\n      <td>25.000000</td>\n      <td>31.779377</td>\n      <td>56.779377</td>\n      <td>25.000000</td>\n      <td>31.779377</td>\n    </tr>\n    <tr>\n      <th>41</th>\n      <td>Soybean Expeller</td>\n      <td>Singapore</td>\n      <td>0.000000</td>\n      <td>0.000000</td>\n      <td>0.000000</td>\n      <td>0.000000</td>\n      <td>0.000000</td>\n      <td>0.000000</td>\n    </tr>\n    <tr>\n      <th>42</th>\n      <td>Soybean, Raw</td>\n      <td>India</td>\n      <td>35.414926</td>\n      <td>68.165212</td>\n      <td>53.244601</td>\n      <td>35.658683</td>\n      <td>66.314199</td>\n      <td>51.972882</td>\n    </tr>\n    <tr>\n      <th>43</th>\n      <td>Soybean, Raw</td>\n      <td>Nepal</td>\n      <td>0.000000</td>\n      <td>0.000000</td>\n      <td>0.000000</td>\n      <td>0.000000</td>\n      <td>0.000000</td>\n      <td>0.000000</td>\n    </tr>\n    <tr>\n      <th>44</th>\n      <td>Soybean, Raw</td>\n      <td>Pakistan</td>\n      <td>30.726764</td>\n      <td>66.988228</td>\n      <td>48.800613</td>\n      <td>31.390781</td>\n      <td>67.278474</td>\n      <td>48.669255</td>\n    </tr>\n    <tr>\n      <th>45</th>\n      <td>Soybean, Raw</td>\n      <td>Vietnam</td>\n      <td>26.662562</td>\n      <td>60.641800</td>\n      <td>37.304361</td>\n      <td>26.619414</td>\n      <td>53.230788</td>\n      <td>29.850201</td>\n    </tr>\n    <tr>\n      <th>46</th>\n      <td>Soybean, Raw</td>\n      <td>Indonesia</td>\n      <td>0.000000</td>\n      <td>0.000000</td>\n      <td>0.000000</td>\n      <td>0.000000</td>\n      <td>0.000000</td>\n      <td>0.000000</td>\n    </tr>\n    <tr>\n      <th>47</th>\n      <td>Soybean, Raw</td>\n      <td>Philippines</td>\n      <td>27.378854</td>\n      <td>25.000000</td>\n      <td>3.926462</td>\n      <td>27.876005</td>\n      <td>38.874943</td>\n      <td>16.750948</td>\n    </tr>\n    <tr>\n      <th>48</th>\n      <td>Soybean, Raw</td>\n      <td>Sri Lanka</td>\n      <td>0.000000</td>\n      <td>0.000000</td>\n      <td>0.000000</td>\n      <td>0.000000</td>\n      <td>0.000000</td>\n      <td>0.000000</td>\n    </tr>\n    <tr>\n      <th>49</th>\n      <td>Soybean, Raw</td>\n      <td>Malaysia</td>\n      <td>0.000000</td>\n      <td>0.000000</td>\n      <td>0.000000</td>\n      <td>0.000000</td>\n      <td>0.000000</td>\n      <td>0.000000</td>\n    </tr>\n    <tr>\n      <th>50</th>\n      <td>Soybean, Raw</td>\n      <td>Thailand</td>\n      <td>0.000000</td>\n      <td>0.000000</td>\n      <td>0.000000</td>\n      <td>0.000000</td>\n      <td>0.000000</td>\n      <td>0.000000</td>\n    </tr>\n    <tr>\n      <th>51</th>\n      <td>Soybean, Raw</td>\n      <td>Australia</td>\n      <td>0.000000</td>\n      <td>0.000000</td>\n      <td>0.000000</td>\n      <td>0.000000</td>\n      <td>0.000000</td>\n      <td>0.000000</td>\n    </tr>\n    <tr>\n      <th>52</th>\n      <td>Soybean, Raw</td>\n      <td>Bangladesh</td>\n      <td>32.230922</td>\n      <td>25.000000</td>\n      <td>7.230922</td>\n      <td>33.486441</td>\n      <td>25.000000</td>\n      <td>8.486441</td>\n    </tr>\n    <tr>\n      <th>53</th>\n      <td>Soybean, Raw</td>\n      <td>New Zealand</td>\n      <td>0.000000</td>\n      <td>0.000000</td>\n      <td>0.000000</td>\n      <td>0.000000</td>\n      <td>0.000000</td>\n      <td>0.000000</td>\n    </tr>\n    <tr>\n      <th>54</th>\n      <td>Soybean, Raw</td>\n      <td>Myanmar</td>\n      <td>0.000000</td>\n      <td>0.000000</td>\n      <td>0.000000</td>\n      <td>0.000000</td>\n      <td>0.000000</td>\n      <td>0.000000</td>\n    </tr>\n    <tr>\n      <th>55</th>\n      <td>Soybean, Raw</td>\n      <td>Singapore</td>\n      <td>0.000000</td>\n      <td>0.000000</td>\n      <td>0.000000</td>\n      <td>0.000000</td>\n      <td>0.000000</td>\n      <td>0.000000</td>\n    </tr>\n  </tbody>\n</table>\n</div>"
     },
     "execution_count": 90,
     "metadata": {},
     "output_type": "execute_result"
    }
   ],
   "source": [
    "holistic_df.head()"
   ],
   "metadata": {
    "collapsed": false
   }
  },
  {
   "cell_type": "code",
   "execution_count": 93,
   "outputs": [],
   "source": [
    "holistic_df.to_excel(HOLISTIC_OUTPUT_FILE, index=False)"
   ],
   "metadata": {
    "collapsed": false
   }
  }
 ],
 "metadata": {
  "kernelspec": {
   "display_name": "Python 3 (ipykernel)",
   "language": "python",
   "name": "python3"
  },
  "language_info": {
   "codemirror_mode": {
    "name": "ipython",
    "version": 3
   },
   "file_extension": ".py",
   "mimetype": "text/x-python",
   "name": "python",
   "nbconvert_exporter": "python",
   "pygments_lexer": "ipython3",
   "version": "3.9.13"
  }
 },
 "nbformat": 4,
 "nbformat_minor": 1
}
