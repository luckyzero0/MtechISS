{
 "cells": [
  {
   "cell_type": "code",
   "execution_count": null,
   "id": "14e42a29-d075-41fa-a16a-3334ba3d78fd",
   "metadata": {},
   "outputs": [],
   "source": [
    "\n",
    "demand_filled = {\n",
    "'2024-01': ,\n",
    "'2024-02': ,\n",
    "'2024-03': \n",
    "}\n",
    "supply_overall = {\n",
    "'2024-01': ,\n",
    "'2024-02': ,\n",
    "'2024-03': \n",
    "}\n",
    "demand_predicted = {\n",
    "'2024-01': ,\n",
    "'2024-02': ,\n",
    "'2024-03': \n",
    "}\n",
    "\n",
    "def calculateWTA(demand_filled, supply_overall, demand_predicted, WTA=60):\n",
    "    demand_filled = \n",
    "    supply_overall = \n",
    "    demand_predicted = \n",
    "\n",
    "    \n",
    "    return {\n",
    "        'spilled_over':{'2024-01': ,\n",
    "                        '2024-02': ,\n",
    "                        '2024-03': \n",
    "                        },\n",
    "        \n",
    "        'total WTA':{'2024-01':,\n",
    "                     '2024-02':,\n",
    "                     '2024-03':\n",
    "                    }\n",
    "\n",
    "        'total \n",
    "        \n",
    "            }\n",
    "\n"
   ]
  }
 ],
 "metadata": {
  "kernelspec": {
   "display_name": "Python 3 (ipykernel)",
   "language": "python",
   "name": "python3"
  },
  "language_info": {
   "codemirror_mode": {
    "name": "ipython",
    "version": 3
   },
   "file_extension": ".py",
   "mimetype": "text/x-python",
   "name": "python",
   "nbconvert_exporter": "python",
   "pygments_lexer": "ipython3",
   "version": "3.9.12"
  }
 },
 "nbformat": 4,
 "nbformat_minor": 5
}
